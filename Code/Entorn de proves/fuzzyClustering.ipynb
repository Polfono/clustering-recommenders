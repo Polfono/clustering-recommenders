{
 "cells": [
  {
   "cell_type": "code",
   "execution_count": 164,
   "id": "9003d32e",
   "metadata": {},
   "outputs": [],
   "source": [
    "import pandas as pd\n",
    "import numpy as np\n",
    "import skfuzzy as fuzz\n",
    "from sklearn.preprocessing import StandardScaler"
   ]
  },
  {
   "cell_type": "code",
   "execution_count": null,
   "id": "baba825f",
   "metadata": {},
   "outputs": [],
   "source": [
    "path = '../Datasets/'\n",
    "ratings = pd.read_csv(path + 'ml-small.csv')"
   ]
  },
  {
   "cell_type": "code",
   "execution_count": null,
   "id": "b6516788",
   "metadata": {},
   "outputs": [
    {
     "data": {
      "text/plain": [
       "0"
      ]
     },
     "execution_count": 179,
     "metadata": {},
     "output_type": "execute_result"
    }
   ],
   "source": [
    "# Create user-item matrix\n",
    "user_item = ratings.pivot_table(index='userId', columns='itemId', values='rating')\n",
    "\n",
    "# Keep mask of original missing entries\n",
    "missing_mask = user_item.isnull()\n",
    "\n",
    "# Fill missing values (e.g., with zeros or user mean)\n",
    "# Here, we fill with user mean to preserve relative preferences\n",
    "def fill_with_user_mean(row):\n",
    "    return row.fillna(row.mean())\n",
    "\n",
    "user_item_filled = user_item.apply(fill_with_user_mean, axis=1)"
   ]
  },
  {
   "cell_type": "code",
   "execution_count": 167,
   "id": "34ef32ad",
   "metadata": {},
   "outputs": [],
   "source": [
    "# Standardize data\n",
    "scaler = StandardScaler()\n",
    "user_item_scaled = scaler.fit_transform(user_item_filled)\n",
    "\n",
    "# Transpose data: features (movies) x samples (users)\n",
    "data = user_item_scaled.T"
   ]
  },
  {
   "cell_type": "code",
   "execution_count": 168,
   "id": "d7de6a51",
   "metadata": {},
   "outputs": [],
   "source": [
    "# Fuzzy c-means parameters\n",
    "n_clusters = 5    # Number of clusters\n",
    "m = 2.0           # Fuzziness parameter\n",
    "error = 0.005     # Stopping criterion\n",
    "maxiter = 1000    # Maximum iterations\n",
    "seed = 42         # For reproducibility\n",
    "\n",
    "# Run fuzzy c-means\n",
    "cntr, u, u0, d, jm, p, fpc = fuzz.cluster.cmeans(\n",
    "    data, c=n_clusters, m=m, error=error, maxiter=maxiter, init=None, seed=seed\n",
    ")"
   ]
  },
  {
   "cell_type": "code",
   "execution_count": 169,
   "id": "bde0b940",
   "metadata": {},
   "outputs": [
    {
     "data": {
      "text/plain": [
       "\"\\nhard_labels = np.argmax(u, axis=0) + 1\\ndf_assignments['cluster_argmax'] = hard_labels\\n\""
      ]
     },
     "execution_count": 169,
     "metadata": {},
     "output_type": "execute_result"
    }
   ],
   "source": [
    "# ---------------------------\n",
    "# Defuzzificación por COG\n",
    "# ---------------------------\n",
    "\n",
    "# 1. Preparamos un vector columna con las etiquetas 1..n_clusters\n",
    "cluster_labels = np.arange(1, n_clusters + 1)[:, None]  # shape (n_clusters, 1)\n",
    "\n",
    "# 2. Calculamos el Centro de Gravedad para cada usuario j:\n",
    "#    cog[j] = sum_i ( label_i * u[i,j] )\n",
    "#    (dado que sum_i u[i,j] == 1, no hace falta normalizar)\n",
    "cog = (cluster_labels * u).sum(axis=0)  # shape (n_users,)\n",
    "\n",
    "# 3. Redondeamos al entero más cercano para asignar cluster\n",
    "assigned_clusters = np.rint(cog).astype(int)\n",
    "#assigned_clusters_argmax = np.argmax(u, axis=0) + 1\n",
    "\n",
    "# 4. Creamos un DataFrame con la asignación final\n",
    "df_assignments = pd.DataFrame({\n",
    "    'userId': user_item_filled.index,\n",
    "    'cluster_cog': assigned_clusters\n",
    "})\n",
    "\n",
    "'''\n",
    "hard_labels = np.argmax(u, axis=0) + 1\n",
    "df_assignments['cluster_argmax'] = hard_labels\n",
    "'''"
   ]
  },
  {
   "cell_type": "code",
   "execution_count": null,
   "id": "70df051f",
   "metadata": {},
   "outputs": [
    {
     "data": {
      "text/plain": [
       "0"
      ]
     },
     "execution_count": 185,
     "metadata": {},
     "output_type": "execute_result"
    }
   ],
   "source": [
    "# --- Prediction step using Pearson-based user-based CF ---\n",
    "# 1. Compute user means and center the filled ratings\n",
    "user_means = user_item_filled.mean(axis=1)                           # shape (n_users,)\n",
    "R_centered = user_item_filled.sub(user_means, axis=0)                # DataFrame (n_users x n_items)\n",
    "\n",
    "\n",
    "\n",
    "# 2. Compute Pearson correlation similarity between users\n",
    "#    using centered ratings\n",
    "user_similarity = R_centered.T.corr(method='pearson')                 # DataFrame (n_users x n_users)\n",
    "user_similarity = user_similarity.fillna(0)\n",
    "\n",
    "\n",
    "# 3. Filter similarities to only those within the same cluster\n",
    "cluster_series = df_assignments.set_index('userId')['cluster_cog']\n",
    "# Align indices\n",
    "user_similarity = user_similarity.loc[user_item_filled.index, user_item_filled.index]\n",
    "cluster_series = cluster_series.loc[user_item_filled.index]\n",
    "# Build mask: True if same cluster\n",
    "same_cluster_mask = np.equal.outer(cluster_series.values, cluster_series.values)\n",
    "# Apply mask\n",
    "user_similarity_filtered = user_similarity * same_cluster_mask\n",
    "\n",
    "# 4. Retain only top_k neighbors per user\n",
    "top_k = 10\n",
    "# Initialize weight matrix W\n",
    "W = pd.DataFrame(\n",
    "    np.zeros_like(user_similarity_filtered.values),\n",
    "    index=user_similarity_filtered.index,\n",
    "    columns=user_similarity_filtered.columns\n",
    ")\n",
    "for uid in user_similarity_filtered.index:\n",
    "    sim_row = user_similarity_filtered.loc[uid].copy()\n",
    "    sim_row[uid] = np.nan  # exclude self\n",
    "    # pick top_k neighbors\n",
    "    top_neighbors = sim_row.nlargest(top_k).index\n",
    "    W.loc[uid, top_neighbors] = sim_row.loc[top_neighbors]\n",
    "\n",
    "# 5. Compute predicted deviations with a single matrix multiplication\n",
    "#    numerator: weighted sum of neighbor-centered ratings\n",
    "numerator = W.values.dot(R_centered.values)                           # shape (n_users x n_items)\n",
    "#    denominator: sum of absolute similarities per user\n",
    "denominator = np.abs(W).sum(axis=1).values                            # shape (n_users,)\n",
    "# avoid division by zero\n",
    "denominator[denominator == 0] = 1e-9\n",
    "#    predicted centered ratings\n",
    "delta_pred = numerator / denominator[:, None]                        # shape (n_users x n_items)\n",
    "\n",
    "# 6. Reconstruct full predicted rating matrix\n",
    "predicted_matrix = delta_pred + user_means.values[:, None]            # add back user means\n",
    "predicted_df = pd.DataFrame(\n",
    "    predicted_matrix,\n",
    "    index=user_item_filled.index,\n",
    "    columns=user_item_filled.columns\n",
    ")\n",
    "\n",
    "# 7. Replace predictions with actual ratings where available\n",
    "predicted_df[~missing_mask] = user_item[~missing_mask]"
   ]
  },
  {
   "cell_type": "code",
   "execution_count": 9,
   "id": "639aeed9",
   "metadata": {},
   "outputs": [
    {
     "name": "stdout",
     "output_type": "stream",
     "text": [
      "MAE=0.6970, NMAE=0.1549\n",
      "MAE=0.6887, NMAE=0.1531\n",
      "MAE=0.6832, NMAE=0.1518\n",
      "MAE=0.6936, NMAE=0.1541\n",
      "MAE=0.6946, NMAE=0.1544\n",
      "Avg MAE=0.6914, Avg NMAE=0.1536\n"
     ]
    }
   ],
   "source": [
    "import pandas as pd\n",
    "import numpy as np\n",
    "import skfuzzy as fuzz\n",
    "from sklearn.preprocessing import StandardScaler\n",
    "from sklearn.model_selection import KFold\n",
    "from sklearn.metrics import mean_absolute_error\n",
    "\n",
    "# Configuration\n",
    "path = '../Datasets/'\n",
    "ratings = pd.read_csv(path + 'ml-small.csv')\n",
    "\n",
    "# Global parameters\n",
    "n_clusters = 1    # Number of fuzzy clusters\n",
    "m = 2              # Fuzziness parameter\n",
    "error = 0.005      # Stopping criterion for fuzzy C-Means\n",
    "maxiter = 1000     # Max iterations\n",
    "top_k = 10         # Number of neighbors\n",
    "seed = 42          # For reproducibility\n",
    "\n",
    "# Rating range for NMAE\n",
    "a_min = ratings.rating.min()\n",
    "a_max = ratings.rating.max()\n",
    "\n",
    "def build_completed_matrix(train_df):\n",
    "    # --- Construct user-item matrix with pandas for indexing ---\n",
    "    user_item = train_df.pivot(index='userId', columns='itemId', values='rating')\n",
    "    users = user_item.index.values\n",
    "    items = user_item.columns.values\n",
    "\n",
    "    # Mask of observed ratings\n",
    "    mask = ~np.isnan(user_item.values)\n",
    "\n",
    "    # Fill missing with user means\n",
    "    filled = user_item.values.copy()\n",
    "    user_means = np.nanmean(filled, axis=1, keepdims=True)\n",
    "    filled[np.isnan(filled)] = np.take(user_means, np.where(np.isnan(filled))[0])\n",
    "\n",
    "    # Standardize across items (axis=1)\n",
    "    scaler = StandardScaler()\n",
    "    scaled = scaler.fit_transform(filled)\n",
    "    data = scaled.T  # transpose for features x samples\n",
    "\n",
    "    # Fuzzy C-means clustering\n",
    "    _, u, _, _, _, _, _ = fuzz.cluster.cmeans(\n",
    "        data, c=n_clusters, m=m, error=error, maxiter=maxiter, init=None, seed=seed\n",
    "    )\n",
    "\n",
    "    # Defuzzify via center of gravity\n",
    "    labels = np.arange(1, n_clusters+1)[:, None]\n",
    "    cog = (labels * u).sum(axis=0)\n",
    "    cluster_assign = np.rint(cog).astype(int)\n",
    "    user_to_cluster = dict(zip(users, cluster_assign))\n",
    "\n",
    "    # Center ratings by subtracting user means\n",
    "    R_centered = filled - user_means\n",
    "\n",
    "    # Compute Pearson similarity via vectorized NumPy\n",
    "    X = R_centered\n",
    "    norms = np.linalg.norm(X, axis=1, keepdims=True)\n",
    "    norms[norms == 0] = 1e-9\n",
    "    X_norm = X / norms\n",
    "    sim = X_norm @ X_norm.T\n",
    "    sim = np.nan_to_num(sim)\n",
    "\n",
    "    # Mask similarities across clusters and self-similarity\n",
    "    cluster_arr = np.array(cluster_assign)\n",
    "    same_cl = (cluster_arr[:, None] == cluster_arr[None, :])\n",
    "    sim *= same_cl\n",
    "    n = sim.shape[0]\n",
    "    sim[np.arange(n), np.arange(n)] = 0\n",
    "\n",
    "    # Vectorized top-k neighbor selection\n",
    "    # find indices of the top_k highest sims per user\n",
    "    neighbor_idxs = np.argpartition(-sim, top_k, axis=1)[:, :top_k]\n",
    "    W = np.zeros_like(sim)\n",
    "    rows = np.repeat(np.arange(n), top_k)\n",
    "    cols = neighbor_idxs.ravel()\n",
    "    W[rows, cols] = sim[rows, cols]\n",
    "\n",
    "    # Predict deviations and reconstruct ratings\n",
    "    denom = np.abs(W).sum(axis=1, keepdims=True)\n",
    "    denom[denom == 0] = 1e-9\n",
    "    delta = W @ X / denom\n",
    "    preds = delta + user_means\n",
    "\n",
    "    # Wrap back into DataFrame and restore known ratings\n",
    "    pred_df = pd.DataFrame(preds, index=users, columns=items)\n",
    "    pred_df.values[mask] = filled[mask]\n",
    "    return pred_df\n",
    "\n",
    "# 5-Fold Cross-Validation\n",
    "def cross_validate(ratings_df, n_splits=5):\n",
    "    kf = KFold(n_splits=n_splits, shuffle=True, random_state=seed)\n",
    "    maes, nmaes = [], []\n",
    "    for train_idx, test_idx in kf.split(ratings_df):\n",
    "        train, test = ratings_df.iloc[train_idx], ratings_df.iloc[test_idx]\n",
    "        comp = build_completed_matrix(train)\n",
    "        y_t, y_p = [], []\n",
    "        for _, r in test.iterrows():\n",
    "            u, i, true = r.userId, r.itemId, r.rating\n",
    "            if u in comp.index and i in comp.columns:\n",
    "                y_t.append(true)\n",
    "                y_p.append(comp.loc[u, i])\n",
    "        mae = mean_absolute_error(y_t, y_p)\n",
    "        nmae = mae/(a_max - a_min)\n",
    "        maes.append(mae); nmaes.append(nmae)\n",
    "        print(f\"MAE={mae:.4f}, NMAE={nmae:.4f}\")\n",
    "    print(f\"Avg MAE={np.mean(maes):.4f}, Avg NMAE={np.mean(nmaes):.4f}\")\n",
    "\n",
    "if __name__ == '__main__':\n",
    "    cross_validate(ratings)\n"
   ]
  }
 ],
 "metadata": {
  "kernelspec": {
   "display_name": ".venv",
   "language": "python",
   "name": "python3"
  },
  "language_info": {
   "codemirror_mode": {
    "name": "ipython",
    "version": 3
   },
   "file_extension": ".py",
   "mimetype": "text/x-python",
   "name": "python",
   "nbconvert_exporter": "python",
   "pygments_lexer": "ipython3",
   "version": "3.12.3"
  }
 },
 "nbformat": 4,
 "nbformat_minor": 5
}
