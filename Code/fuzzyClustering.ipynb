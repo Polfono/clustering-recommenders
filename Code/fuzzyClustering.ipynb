{
 "cells": [
  {
   "cell_type": "code",
   "execution_count": 1,
   "id": "00865fbb",
   "metadata": {},
   "outputs": [],
   "source": [
    "import pandas as pd\n",
    "import numpy as np\n",
    "from sklearn.cluster import KMeans\n",
    "from sklearn.model_selection import KFold\n",
    "import skfuzzy as fuzz"
   ]
  },
  {
   "cell_type": "code",
   "execution_count": 2,
   "id": "878bf143",
   "metadata": {},
   "outputs": [],
   "source": [
    "# 1. Cargar los datasets\n",
    "pathSmall = '../Datasets/ml-latest-small/'\n",
    "ratings = pd.read_csv(pathSmall + 'ratings.csv')  # Debe tener columnas: userId, movieId, rating, timestamp\n",
    "ratings.drop(columns=['timestamp'], inplace=True)  # Eliminar la columna timestamp"
   ]
  },
  {
   "cell_type": "code",
   "execution_count": 3,
   "id": "a4c18800",
   "metadata": {},
   "outputs": [],
   "source": [
    "# === 2. Crear matriz de utilidad ===\n",
    "user_item_matrix = ratings.pivot(index='userId', columns='movieId', values='rating').fillna(0)\n",
    "user_ids = user_item_matrix.index\n",
    "movie_ids = user_item_matrix.columns"
   ]
  },
  {
   "cell_type": "code",
   "execution_count": null,
   "id": "a9853a86",
   "metadata": {},
   "outputs": [
    {
     "name": "stdout",
     "output_type": "stream",
     "text": [
      "[[0.19946302 0.19841808 0.20057842 0.2010916  0.20044888]\n",
      " [0.20293599 0.20723244 0.19625599 0.19475913 0.19881645]\n",
      " [0.20374913 0.20870268 0.19491877 0.19417999 0.19844942]\n",
      " ...\n",
      " [0.19899743 0.19761926 0.20131248 0.20159476 0.20047607]\n",
      " [0.20418497 0.20985741 0.19480395 0.19422972 0.19692394]\n",
      " [0.19938521 0.19867071 0.20085485 0.20078986 0.20029936]]\n"
     ]
    }
   ],
   "source": [
    "# === 3. Fuzzy C-Means ===\n",
    "# Necesitamos transponer para que cada usuario sea una columna como lo requiere skfuzzy\n",
    "data = user_item_matrix.values.T  # [n_items x n_users]\n",
    "n_clusters = 5\n",
    "\n",
    "# Ejecutar FCM\n",
    "centers, u, u0, d, jm, p, fpc = fuzz.cluster.cmeans(\n",
    "    data, c=n_clusters, m=1.7, error=0.5, maxiter=1000, init=None\n",
    ")\n",
    "u = u.T  # [n_users x n_clusters]\n",
    "\n",
    "print(u)"
   ]
  },
  {
   "cell_type": "code",
   "execution_count": 7,
   "id": "e691f7f5",
   "metadata": {},
   "outputs": [
    {
     "name": "stdout",
     "output_type": "stream",
     "text": [
      "[2 2 2 2 2 2 2 2 2 2 2 2 2 2 2 2 2 2 2 2 2 2 2 2 2 2 2 2 2 2 2 2 2 2 2 2 2\n",
      " 2 2 2 2 2 2 2 2 2 2 2 2 2 2 2 2 2 2 2 2 2 2 2 2 2 2 2 2 2 2 2 2 2 2 2 2 2\n",
      " 2 2 2 2 2 2 2 2 2 2 2 2 2 2 2 2 2 2 2 2 2 2 2 2 2 2 2 2 2 2 2 2 2 2 2 2 2\n",
      " 2 2 2 2 2 2 2 2 2 2 2 2 2 2 2 2 2 2 2 2 2 2 2 2 2 2 2 2 2 2 2 2 2 2 2 2 2\n",
      " 2 2 2 2 2 2 2 2 2 2 2 2 2 2 2 2 2 2 2 2 2 2 2 2 2 2 2 2 2 2 2 2 2 2 2 2 2\n",
      " 2 2 2 2 2 2 2 2 2 2 2 2 2 2 2 2 2 2 2 2 2 2 2 2 2 2 2 2 2 2 2 2 2 2 2 2 2\n",
      " 2 2 2 2 2 2 2 2 2 2 2 2 2 2 2 2 2 2 2 2 2 2 2 2 2 2 2 2 2 2 2 2 2 2 2 2 2\n",
      " 2 2 2 2 2 2 2 2 2 2 2 2 2 2 2 2 2 2 2 2 2 2 2 2 2 2 2 2 2 2 2 2 2 2 2 2 2\n",
      " 2 2 2 2 2 2 2 2 2 2 2 2 2 2 2 2 2 2 2 2 2 2 2 2 2 2 2 2 2 2 2 2 2 2 2 2 2\n",
      " 2 2 2 2 2 2 2 2 2 2 2 2 2 2 2 2 2 2 2 2 2 2 2 2 2 2 2 2 2 2 2 2 2 2 2 2 2\n",
      " 2 2 2 2 2 2 2 2 2 2 2 2 2 2 2 2 2 2 2 2 2 2 2 2 2 2 2 2 2 2 2 2 2 2 2 2 2\n",
      " 2 2 2 2 2 2 2 2 2 2 2 2 2 2 2 2 2 2 2 2 2 2 2 2 2 2 2 2 2 2 2 2 2 2 2 2 2\n",
      " 2 2 2 2 2 2 2 2 2 2 2 2 2 2 2 2 2 2 2 2 2 2 2 2 2 2 2 2 2 2 2 2 2 2 2 2 2\n",
      " 2 2 2 2 2 2 2 2 2 2 2 2 2 2 2 2 2 2 2 2 2 2 2 2 2 2 2 2 2 2 2 2 2 2 2 2 2\n",
      " 2 2 2 2 2 2 2 2 2 2 2 2 2 2 2 2 2 2 2 2 2 2 2 2 2 2 2 2 2 2 2 2 2 2 2 2 2\n",
      " 2 2 2 2 2 2 2 2 2 2 2 2 2 2 2 2 2 2 2 2 2 2 2 2 2 2 2 2 2 2 2 2 2 2 2 2 2\n",
      " 2 2 2 2 2 2 2 2 2 2 2 2 2 2 2 2 2 2]\n"
     ]
    }
   ],
   "source": [
    "def defuzz_cog(u):\n",
    "    \"\"\"\n",
    "    Calcula centro de gravedad de las membresías y redondea al cluster más cercano.\n",
    "    Los índices de cluster se asumen 1..c.\n",
    "    Output es array de etiquetas 0..c-1.\n",
    "    \"\"\"\n",
    "    n_clusters, n_samples = u.shape\n",
    "    # índices 1..c\n",
    "    indices = np.arange(1, n_clusters + 1)\n",
    "    # center of gravity: sum(mu_i * i) / sum(mu_i)\n",
    "    cog = (u.T @ indices) / u.sum(axis=0)\n",
    "    # redondear y mapear de vuelta a [0..c-1]\n",
    "    labels = np.rint(cog).astype(int) - 1\n",
    "    # asegurar límites\n",
    "    labels = np.clip(labels, 0, n_clusters - 1)\n",
    "    return labels\n",
    "\n",
    "labels = defuzz_cog(u.T)\n",
    "print(labels)"
   ]
  }
 ],
 "metadata": {
  "kernelspec": {
   "display_name": ".venv",
   "language": "python",
   "name": "python3"
  },
  "language_info": {
   "codemirror_mode": {
    "name": "ipython",
    "version": 3
   },
   "file_extension": ".py",
   "mimetype": "text/x-python",
   "name": "python",
   "nbconvert_exporter": "python",
   "pygments_lexer": "ipython3",
   "version": "3.12.3"
  }
 },
 "nbformat": 4,
 "nbformat_minor": 5
}
