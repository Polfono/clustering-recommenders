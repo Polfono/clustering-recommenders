{
 "cells": [
  {
   "cell_type": "code",
   "execution_count": 15,
   "id": "bf4241fb",
   "metadata": {},
   "outputs": [],
   "source": [
    "import pandas as pd\n",
    "import numpy as np\n",
    "from sklearn.cluster import KMeans\n",
    "from sklearn.model_selection import KFold"
   ]
  },
  {
   "cell_type": "code",
   "execution_count": 16,
   "id": "8b17ad7a",
   "metadata": {},
   "outputs": [],
   "source": [
    "# 1. Cargar los datasets\n",
    "pathSmall = '../Datasets/ml-latest-small/'\n",
    "path1M = '../Datasets/ml-1m/'\n",
    "pathLarge = '../Datasets/ml-32m/'\n",
    "ratings = pd.read_csv(pathSmall + 'ratings.csv')  # Debe tener columnas: userId, movieId, rating, timestamp\n",
    "#ratings = pd.read_csv(path1M + 'ratings.dat', sep='::', header=None, engine='python')\n",
    "ratings.columns = ['userId', 'movieId', 'rating', 'timestamp']  # Asignar nombres a las columnas\n",
    "ratings.drop(columns=['timestamp'], inplace=True)  # Eliminar la columna timestamp"
   ]
  },
  {
   "cell_type": "code",
   "execution_count": 17,
   "id": "c1478fe1",
   "metadata": {},
   "outputs": [],
   "source": [
    "def predict_rating(user_index, item_index, data, clusters, user_means):\n",
    "    cluster_id = clusters[user_index]\n",
    "    cluster_members = np.where(clusters == cluster_id)[0]\n",
    "    \n",
    "    votes = []\n",
    "    user_vector = data[user_index]\n",
    "    user_mean = user_means[user_index]\n",
    "\n",
    "    for neighbor in cluster_members:\n",
    "        if neighbor == user_index:\n",
    "            continue\n",
    "        neighbor_rating = data[neighbor, item_index]\n",
    "        if neighbor_rating == 0:\n",
    "            continue\n",
    "\n",
    "        neighbor_mean = user_means[neighbor]\n",
    "        deviation = neighbor_rating - neighbor_mean\n",
    "\n",
    "        distance = np.linalg.norm(user_vector - data[neighbor])\n",
    "        weight = 1 / (distance**2 + 1e-5)\n",
    "\n",
    "        votes.append((deviation, weight))\n",
    "    \n",
    "    if not votes:\n",
    "        return user_mean  # Si no hay votos, devolver la media del usuario\n",
    "\n",
    "    # Promedio ponderado de las desviaciones\n",
    "    num = sum(dev * w for dev, w in votes)\n",
    "    denom = sum(w for _, w in votes)\n",
    "\n",
    "    pred = user_mean + (num / denom)\n",
    "    return np.clip(pred, 0.5, 5.0)  # Asegura que el rating esté en el rango válido"
   ]
  },
  {
   "cell_type": "code",
   "execution_count": 18,
   "id": "f58c0349",
   "metadata": {},
   "outputs": [],
   "source": [
    "# 2. Crear matriz usuario-película\n",
    "# Pivot table: filas = usuarios, columnas = películas, valores = rating\n",
    "ratings_matrix = ratings.pivot(index='userId', columns='movieId', values='rating').fillna(0)"
   ]
  },
  {
   "cell_type": "code",
   "execution_count": 19,
   "id": "9cb807cc",
   "metadata": {},
   "outputs": [],
   "source": [
    "# Parámetros para KMeans y 5-fold cross validation\n",
    "k = 5\n",
    "kf = KFold(n_splits=5, shuffle=True, random_state=42)\n",
    "mae_scores = []\n",
    "\n",
    "# Convertir el DataFrame en un array de índices para iterar en el splitting\n",
    "ratings_indices = ratings.index.values"
   ]
  },
  {
   "cell_type": "code",
   "execution_count": 20,
   "id": "b0d803ad",
   "metadata": {},
   "outputs": [
    {
     "name": "stdout",
     "output_type": "stream",
     "text": [
      "Fold MAE: 0.7109\n",
      "Fold MAE: 0.6987\n",
      "Fold MAE: 0.7068\n",
      "Fold MAE: 0.7104\n",
      "Fold MAE: 0.7056\n",
      "\n",
      "MAE promedio en 5-fold cross validation: 0.7065\n",
      "NMAE promedio en 5-fold cross validation: 0.1570\n"
     ]
    }
   ],
   "source": [
    "# 2. Iterar sobre cada fold\n",
    "for train_indices, test_indices in kf.split(ratings_indices):\n",
    "    \n",
    "    # Crear conjuntos de entrenamiento y prueba a partir de los índices\n",
    "    train_ratings = ratings.iloc[train_indices]\n",
    "    test_ratings = ratings.iloc[test_indices]\n",
    "    \n",
    "    # Construir la matriz usuario-película a partir del conjunto de entrenamiento\n",
    "    train_matrix = train_ratings.pivot(index='userId', columns='movieId', values='rating').fillna(0)\n",
    "\n",
    "    # Calcular la media por usuario para ajustar como KNNWithMeans\n",
    "    user_means = train_matrix.replace(0, np.NaN).mean(axis=1).values\n",
    "    \n",
    "    # Realizar clustering en la matriz de entrenamiento\n",
    "    kmeans = KMeans(n_clusters=k, random_state=42)\n",
    "    clusters_train = kmeans.fit_predict(train_matrix)\n",
    "    \n",
    "    # Listas para acumular predicciones y valores reales\n",
    "    predictions = []\n",
    "    true_values = []\n",
    "    \n",
    "    # Convertir índices de usuarios y películas para facilitar búsqueda\n",
    "    usuarios = list(train_matrix.index)\n",
    "    peliculas = list(train_matrix.columns)\n",
    "    train_data = train_matrix.values\n",
    "    \n",
    "    # Iterar sobre cada registro del conjunto de prueba\n",
    "    for idx, row in test_ratings.iterrows():\n",
    "        user = row['userId']\n",
    "        movie = row['movieId']\n",
    "        true_rating = row['rating']\n",
    "        \n",
    "        # Si el usuario o la película no están en el conjunto de entrenamiento, se omite el registro\n",
    "        if user not in usuarios or movie not in peliculas:\n",
    "            continue\n",
    "        \n",
    "        user_idx = usuarios.index(user)\n",
    "        movie_idx = peliculas.index(movie)\n",
    "        \n",
    "        pred = predict_rating(user_idx, movie_idx, train_data, clusters_train, user_means)\n",
    "        predictions.append(pred)\n",
    "        true_values.append(true_rating)\n",
    "    \n",
    "    # Calcular el MAE para el fold actual, si existen predicciones\n",
    "    if predictions:\n",
    "        mae_fold = np.mean(np.abs(np.array(predictions) - np.array(true_values)))\n",
    "        mae_scores.append(mae_fold)\n",
    "        print(f\"Fold MAE: {mae_fold:.4f}\")\n",
    "\n",
    "# Mostrar el MAE y NMAE promedio en todos los folds\n",
    "if mae_scores:\n",
    "    mae_promedio = np.mean(mae_scores)\n",
    "    nmae_promedio = mae_promedio / 4.5  # Rango de ratings en MovieLens\n",
    "    print(f\"\\nMAE promedio en 5-fold cross validation: {mae_promedio:.4f}\")\n",
    "    print(f\"NMAE promedio en 5-fold cross validation: {nmae_promedio:.4f}\")\n",
    "else:\n",
    "    print(\"No se realizaron predicciones en ninguno de los folds.\")"
   ]
  }
 ],
 "metadata": {
  "kernelspec": {
   "display_name": ".venv",
   "language": "python",
   "name": "python3"
  },
  "language_info": {
   "codemirror_mode": {
    "name": "ipython",
    "version": 3
   },
   "file_extension": ".py",
   "mimetype": "text/x-python",
   "name": "python",
   "nbconvert_exporter": "python",
   "pygments_lexer": "ipython3",
   "version": "3.12.3"
  }
 },
 "nbformat": 4,
 "nbformat_minor": 5
}
