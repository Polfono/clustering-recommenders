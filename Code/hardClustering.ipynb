{
 "cells": [
  {
   "cell_type": "code",
   "execution_count": 6,
   "id": "bf4241fb",
   "metadata": {},
   "outputs": [],
   "source": [
    "import pandas as pd\n",
    "import numpy as np\n",
    "from sklearn.cluster import KMeans"
   ]
  },
  {
   "cell_type": "code",
   "execution_count": 2,
   "id": "8b17ad7a",
   "metadata": {},
   "outputs": [],
   "source": [
    "# 1. Cargar los datasets\n",
    "pathSmall = '../Datasets/ml-latest-small/'\n",
    "pathLarge = '../Datasets/ml-32m/'\n",
    "ratings = pd.read_csv(pathSmall + 'ratings.csv')  # Debe tener columnas: userId, movieId, rating, timestamp\n",
    "ratings.drop(columns=['timestamp'], inplace=True)  # Eliminar la columna timestamp\n"
   ]
  },
  {
   "cell_type": "code",
   "execution_count": 3,
   "id": "f58c0349",
   "metadata": {},
   "outputs": [],
   "source": [
    "# 2. Crear matriz usuario-película\n",
    "# Pivot table: filas = usuarios, columnas = películas, valores = rating\n",
    "ratings_matrix = ratings.pivot(index='userId', columns='movieId', values='rating').fillna(0)"
   ]
  },
  {
   "cell_type": "code",
   "execution_count": 4,
   "id": "9cb807cc",
   "metadata": {},
   "outputs": [],
   "source": [
    "k = 10\n",
    "kmeans = KMeans(n_clusters=k, random_state=42)\n",
    "clusters = kmeans.fit_predict(ratings_matrix)"
   ]
  },
  {
   "cell_type": "code",
   "execution_count": null,
   "id": "b0d803ad",
   "metadata": {},
   "outputs": [],
   "source": [
    "def predict_rating(user_index, item_index, data, clusters):\n",
    "    cluster_id = clusters[user_index]\n",
    "    cluster_members = np.where(clusters == cluster_id)[0]\n",
    "    \n",
    "    votes = []\n",
    "    user_vector = data[user_index]\n",
    "\n",
    "    for neighbor in cluster_members:\n",
    "        if neighbor == user_index:\n",
    "            continue\n",
    "        neighbor_rating = data[neighbor, item_index]\n",
    "        if neighbor_rating == 0:\n",
    "            continue\n",
    "\n",
    "        distance = np.linalg.norm(user_vector - data[neighbor])\n",
    "        weight = 1 / (distance**2 + 1e-5)\n",
    "        votes.append((neighbor_rating, weight))\n",
    "    \n",
    "    if not votes:\n",
    "        return 0\n",
    "\n",
    "    # Agrupar los pesos por calificación\n",
    "    rating_weights = {}\n",
    "    for rating, weight in votes:\n",
    "        rating_weights[rating] = rating_weights.get(rating, 0) + weight\n",
    "\n",
    "    # Obtener calificación(es) con mayor peso\n",
    "    max_weight = max(rating_weights.values())\n",
    "    top_ratings = [r for r, w in rating_weights.items() if w == max_weight]\n",
    "\n",
    "    return np.mean(top_ratings)\n"
   ]
  }
 ],
 "metadata": {
  "kernelspec": {
   "display_name": ".venv",
   "language": "python",
   "name": "python3"
  },
  "language_info": {
   "codemirror_mode": {
    "name": "ipython",
    "version": 3
   },
   "file_extension": ".py",
   "mimetype": "text/x-python",
   "name": "python",
   "nbconvert_exporter": "python",
   "pygments_lexer": "ipython3",
   "version": "3.12.3"
  }
 },
 "nbformat": 4,
 "nbformat_minor": 5
}
