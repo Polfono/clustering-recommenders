{
 "cells": [
  {
   "cell_type": "code",
   "execution_count": null,
   "id": "fccb5814",
   "metadata": {},
   "outputs": [],
   "source": [
    "# Abrir archivo de entrada y salida\n",
    "with open(\"../Datasets/ml-1m/ratings.dat\", \"r\") as infile, open(\"../Datasets/ml-1m.csv\", \"w\") as outfile:\n",
    "    # Escribir encabezados\n",
    "    outfile.write(\"userId,itemId,rating\\n\")\n",
    "    \n",
    "    # Procesar cada línea\n",
    "    for line in infile:\n",
    "        partes = line.strip().split(\"::\")\n",
    "        if len(partes) == 4:\n",
    "            user_id, movie_id, rating = partes[:3]  # Ignora timestamp\n",
    "            outfile.write(f\"{user_id},{movie_id},{rating}\\n\")\n"
   ]
  }
 ],
 "metadata": {
  "kernelspec": {
   "display_name": ".venv",
   "language": "python",
   "name": "python3"
  },
  "language_info": {
   "codemirror_mode": {
    "name": "ipython",
    "version": 3
   },
   "file_extension": ".py",
   "mimetype": "text/x-python",
   "name": "python",
   "nbconvert_exporter": "python",
   "pygments_lexer": "ipython3",
   "version": "3.12.3"
  }
 },
 "nbformat": 4,
 "nbformat_minor": 5
}
