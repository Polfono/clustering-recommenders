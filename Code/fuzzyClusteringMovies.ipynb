{
 "cells": [
  {
   "cell_type": "code",
   "execution_count": 27,
   "id": "7bee5848",
   "metadata": {},
   "outputs": [],
   "source": [
    "import pandas as pd\n",
    "import numpy as np\n",
    "import skfuzzy as fuzz\n",
    "from sklearn.preprocessing import StandardScaler"
   ]
  },
  {
   "cell_type": "code",
   "execution_count": 28,
   "id": "5946a0aa",
   "metadata": {},
   "outputs": [],
   "source": [
    "pathSmall = '../Datasets/ml-latest-small/'\n",
    "ratings = pd.read_csv(pathSmall + 'ratings.csv')"
   ]
  },
  {
   "cell_type": "code",
   "execution_count": 29,
   "id": "5859aba4",
   "metadata": {},
   "outputs": [],
   "source": [
    "# Create user-item matrix\n",
    "user_item = ratings.pivot_table(index='userId', columns='movieId', values='rating')\n",
    "\n",
    "# Fill missing values (e.g., with zeros or user mean)\n",
    "# Here, we fill with user mean to preserve relative preferences\n",
    "def fill_with_user_mean(row):\n",
    "    return row.fillna(row.mean())\n",
    "\n",
    "user_item_filled = user_item.apply(fill_with_user_mean, axis=1)"
   ]
  },
  {
   "cell_type": "code",
   "execution_count": 30,
   "id": "1e1cf776",
   "metadata": {},
   "outputs": [],
   "source": [
    "# Standardize data\n",
    "scaler = StandardScaler()\n",
    "user_item_scaled = scaler.fit_transform(user_item_filled)\n",
    "\n",
    "# Transpose data: features (movies) x samples (users)\n",
    "data = user_item_scaled.T"
   ]
  },
  {
   "cell_type": "code",
   "execution_count": 33,
   "id": "9d1af9b9",
   "metadata": {},
   "outputs": [],
   "source": [
    "# Fuzzy c-means parameters\n",
    "n_clusters = 5    # Number of clusters\n",
    "m = 2.0           # Fuzziness parameter\n",
    "error = 0.005     # Stopping criterion\n",
    "maxiter = 1000    # Maximum iterations\n",
    "seed = 42         # For reproducibility\n",
    "\n",
    "# Run fuzzy c-means\n",
    "cntr, u, u0, d, jm, p, fpc = fuzz.cluster.cmeans(\n",
    "    data, c=n_clusters, m=m, error=error, maxiter=maxiter, init=None, seed=seed\n",
    ")"
   ]
  },
  {
   "cell_type": "code",
   "execution_count": 34,
   "id": "954f9fb2",
   "metadata": {},
   "outputs": [
    {
     "name": "stdout",
     "output_type": "stream",
     "text": [
      "Fuzzy Partition Coefficient (FPC): 0.6219\n",
      "   Cluster_0  Cluster_1  Cluster_2  Cluster_3  Cluster_4  AssignedCluster  \\\n",
      "0   0.009325   0.905891   0.019841   0.061026   0.003918                1   \n",
      "1   0.003539   0.011186   0.014679   0.969592   0.001004                3   \n",
      "2   0.078244   0.015093   0.038928   0.023751   0.843984                4   \n",
      "3   0.185318   0.034478   0.635012   0.119111   0.026080                2   \n",
      "4   0.023345   0.006865   0.932487   0.033819   0.003484                2   \n",
      "\n",
      "   UserId  \n",
      "0       1  \n",
      "1       2  \n",
      "2       3  \n",
      "3       4  \n",
      "4       5  \n"
     ]
    }
   ],
   "source": [
    "# u: final membership matrix (shape: n_clusters x n_samples)\n",
    "# Assign each user to the cluster with highest membership\n",
    "cluster_labels = np.argmax(u, axis=0)\n",
    "\n",
    "# Create a DataFrame with user cluster labels and membership degrees\n",
    "user_clusters = pd.DataFrame(u.T, columns=[f\"Cluster_{i}\" for i in range(n_clusters)])\n",
    "user_clusters['AssignedCluster'] = cluster_labels\n",
    "user_clusters['UserId'] = user_item_filled.index.values\n",
    "\n",
    "# Merge cluster labels back to user-item matrix if needed\n",
    "user_item_clusters = user_item_filled.merge(user_clusters[['UserId', 'AssignedCluster']], left_index=True, right_on='UserId')\n",
    "\n",
    "# Display Fuzzy Partition Coefficient (FPC) as a measure of clustering quality\n",
    "print(f\"Fuzzy Partition Coefficient (FPC): {fpc:.4f}\")\n",
    "\n",
    "# Inspect first few users with cluster assignments\n",
    "print(user_clusters.head())"
   ]
  }
 ],
 "metadata": {
  "kernelspec": {
   "display_name": ".venv",
   "language": "python",
   "name": "python3"
  },
  "language_info": {
   "codemirror_mode": {
    "name": "ipython",
    "version": 3
   },
   "file_extension": ".py",
   "mimetype": "text/x-python",
   "name": "python",
   "nbconvert_exporter": "python",
   "pygments_lexer": "ipython3",
   "version": "3.12.3"
  }
 },
 "nbformat": 4,
 "nbformat_minor": 5
}
